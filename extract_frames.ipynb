{
 "cells": [
  {
   "cell_type": "code",
   "execution_count": 10,
   "metadata": {},
   "outputs": [],
   "source": [
    "from moviepy.editor import *\n",
    "import csv"
   ]
  },
  {
   "cell_type": "code",
   "execution_count": null,
   "metadata": {},
   "outputs": [],
   "source": [
    "# https://stackoverflow.com/questions/43148590/extract-images-using-opencv-and-python-or-moviepy\n",
    "def extract_frames(movie, times, imgdir):\n",
    "    clip = VideoFileClip(movie)\n",
    "    for t in times:\n",
    "        imgpath = os.path.join(imgdir, '{}.png'.format(t))\n",
    "        clip.save_frame(imgpath, t)"
   ]
  },
  {
   "cell_type": "code",
   "execution_count": 11,
   "metadata": {},
   "outputs": [],
   "source": [
    "csvfile = open(\"image-tagging-export.csv\")\n",
    "csvreader = csv.reader(csvfile)\n",
    "rows = []\n",
    "for row in csvreader:\n",
    "    rows.append(row)\n",
    "    \n",
    "csvfile.close()"
   ]
  },
  {
   "cell_type": "code",
   "execution_count": null,
   "metadata": {},
   "outputs": [],
   "source": [
    "sample_str = '12-20190406-game9_360p.mp4#t=260.666667.jpg'\n",
    "sample_str.split('#t=')[1].split('.jpg')[0]"
   ]
  },
  {
   "cell_type": "code",
   "execution_count": null,
   "metadata": {},
   "outputs": [],
   "source": [
    "rows[0]"
   ]
  },
  {
   "cell_type": "code",
   "execution_count": null,
   "metadata": {},
   "outputs": [],
   "source": [
    "rows[1]"
   ]
  },
  {
   "cell_type": "code",
   "execution_count": null,
   "metadata": {},
   "outputs": [],
   "source": [
    "t = 260.666667\n",
    "clip = VideoFileClip('/mnt/disks/d1/s/data/apra/source/12-20190406-game9_source.mp4')\n",
    "imgpath = os.path.join('.', '{}.png'.format(t))\n",
    "print(imgpath)\n",
    "clip.save_frame(imgpath, t)"
   ]
  },
  {
   "cell_type": "code",
   "execution_count": 12,
   "metadata": {},
   "outputs": [
    {
     "name": "stdout",
     "output_type": "stream",
     "text": [
      "processing< 12-20190406-game9_source.mp4 >\n",
      "processing< 13-20190407-game10_source.mp4 >\n",
      "processing< 12-20190406-game9_source.mp4 >\n",
      "processing< 13-20190407-game10_source.mp4 >\n",
      "processing< 12-20190406-game9_source.mp4 >\n",
      "processing< 13-20190407-game10_source.mp4 >\n",
      "processed< 100 >\n",
      "processing< 14-20190407-game11_source.mp4 >\n",
      "processing< 13-20190407-game10_source.mp4 >\n",
      "processing< 14-20190407-game11_source.mp4 >\n",
      "processed< 200 >\n",
      "processing< 15-20190407-game12_source.mp4 >\n",
      "processing< 14-20190407-game11_source.mp4 >\n",
      "processing< 15-20190407-game12_source.mp4 >\n",
      "processed< 300 >\n",
      "processed< 400 >\n",
      "processing< 28-20190408-game1_source.mp4 >\n",
      "processing< 15-20190407-game12_source.mp4 >\n",
      "processing< 28-20190408-game1_source.mp4 >\n",
      "processed< 500 >\n",
      "processing< 29-20190408-game2_source.mp4 >\n",
      "processing< 28-20190408-game1_source.mp4 >\n",
      "processing< 29-20190408-game2_source.mp4 >\n",
      "processing< 30-20190409-game3_source.mp4 >\n",
      "processing< 29-20190408-game2_source.mp4 >\n",
      "processing< 30-20190409-game3_source.mp4 >\n",
      "processed< 600 >\n",
      "processed< 700 >\n",
      "processing< 35-20190411-game7_source.mp4 >\n",
      "processing< 30-20190409-game3_source.mp4 >\n",
      "processing< 35-20190411-game7_source.mp4 >\n",
      "processed< 800 >\n",
      "processing< 36-20190411-game8_source.mp4 >\n",
      "processing< 35-20190411-game7_source.mp4 >\n",
      "processing< 36-20190411-game8_source.mp4 >\n",
      "processing< 35-20190411-game7_source.mp4 >\n",
      "processing< 36-20190411-game8_source.mp4 >\n",
      "processed< 900 >\n",
      "processing< 41-20190425-game2_source.mp4 >\n",
      "processed< 1000 >\n",
      "processing< 42-20190425-game3_source.mp4 >\n",
      "processed< 1100 >\n",
      "processing< 12-20190406-game9_source.mp4 >\n",
      "processing< 42-20190425-game3_source.mp4 >\n",
      "processing< 12-20190406-game9_source.mp4 >\n",
      "processing< 42-20190425-game3_source.mp4 >\n",
      "processing< 12-20190406-game9_source.mp4 >\n",
      "processed< 1200 >\n",
      "processing< 13-20190407-game10_source.mp4 >\n",
      "processing< 12-20190406-game9_source.mp4 >\n",
      "processing< 13-20190407-game10_source.mp4 >\n",
      "processed< 1300 >\n",
      "processing< 14-20190407-game11_source.mp4 >\n",
      "processing< 13-20190407-game10_source.mp4 >\n",
      "processing< 14-20190407-game11_source.mp4 >\n",
      "processing< 13-20190407-game10_source.mp4 >\n",
      "processing< 14-20190407-game11_source.mp4 >\n",
      "processing< 15-20190407-game12_source.mp4 >\n",
      "processed< 1400 >\n",
      "processing< 28-20190408-game1_source.mp4 >\n",
      "processing< 15-20190407-game12_source.mp4 >\n",
      "processing< 28-20190408-game1_source.mp4 >\n",
      "processing< 29-20190408-game2_source.mp4 >\n",
      "processing< 28-20190408-game1_source.mp4 >\n",
      "processing< 29-20190408-game2_source.mp4 >\n",
      "processing< 28-20190408-game1_source.mp4 >\n",
      "processing< 29-20190408-game2_source.mp4 >\n",
      "processing< 28-20190408-game1_source.mp4 >\n",
      "processed< 1500 >\n",
      "processing< 29-20190408-game2_source.mp4 >\n",
      "processing< 28-20190408-game1_source.mp4 >\n",
      "processing< 29-20190408-game2_source.mp4 >\n",
      "processing< 30-20190409-game3_source.mp4 >\n",
      "processing< 29-20190408-game2_source.mp4 >\n",
      "processing< 30-20190409-game3_source.mp4 >\n",
      "processing< 35-20190411-game7_source.mp4 >\n",
      "processed< 1600 >\n",
      "done\n"
     ]
    }
   ],
   "source": [
    "# for each row starting from row index 1\n",
    "# if directory doesnt exist create the directory\n",
    "# save the file from the video\n",
    "\n",
    "# constants\n",
    "video_basedir = '/mnt/disks/d1/s/data/apra/source'\n",
    "image_basedir = '/mnt/disks/d1/s/data/apra/imageannotations'\n",
    "\n",
    "cur_videoname = ''\n",
    "clip = None\n",
    "\n",
    "for index, row in enumerate(rows):\n",
    "    if index == 0:\n",
    "        continue\n",
    "    \n",
    "    clip_name = row[0]\n",
    "    label = row[5]\n",
    "    t = float(clip_name.split('#t=')[1].split('.jpg')[0])\n",
    "    video_name = clip_name.split('#t=')[0].replace('360p', 'source')\n",
    "    \n",
    "    if cur_videoname != video_name:\n",
    "        cur_videoname = video_name\n",
    "        print(\"processing<\", cur_videoname, \">\")\n",
    "        clip = VideoFileClip(os.path.join(video_basedir, cur_videoname))\n",
    "    \n",
    "    dirname = os.path.join(image_basedir, label)\n",
    "    \n",
    "    if not os.path.exists(dirname):\n",
    "        os.mkdir(dirname)\n",
    "            \n",
    "    imgpath = os.path.join(dirname, clip_name.replace('_360p', ''))\n",
    "    clip.save_frame(imgpath, t)\n",
    "    \n",
    "    if index % 100 == 0:\n",
    "        print(\"processed<\", index, \">\")\n",
    "\n",
    "print(\"done\")"
   ]
  },
  {
   "cell_type": "code",
   "execution_count": null,
   "metadata": {},
   "outputs": [],
   "source": [
    "# split into train and validation"
   ]
  },
  {
   "cell_type": "code",
   "execution_count": null,
   "metadata": {},
   "outputs": [],
   "source": [
    "os.path.join('/mnt/disks/d1/s/data/apra/imageannotations', 'hola', 'how.png')"
   ]
  },
  {
   "cell_type": "code",
   "execution_count": null,
   "metadata": {},
   "outputs": [],
   "source": [
    "'{}_{}.jpg'.format('abc', t)"
   ]
  },
  {
   "cell_type": "code",
   "execution_count": null,
   "metadata": {},
   "outputs": [],
   "source": []
  }
 ],
 "metadata": {
  "kernelspec": {
   "display_name": "Python 3",
   "language": "python",
   "name": "python3"
  },
  "language_info": {
   "codemirror_mode": {
    "name": "ipython",
    "version": 3
   },
   "file_extension": ".py",
   "mimetype": "text/x-python",
   "name": "python",
   "nbconvert_exporter": "python",
   "pygments_lexer": "ipython3",
   "version": "3.5.3"
  }
 },
 "nbformat": 4,
 "nbformat_minor": 2
}

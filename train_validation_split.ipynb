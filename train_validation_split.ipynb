{
 "cells": [
  {
   "cell_type": "code",
   "execution_count": null,
   "metadata": {},
   "outputs": [],
   "source": [
    "import csv\n",
    "from os import listdir, mkdir\n",
    "from os.path import isfile, join, isdir, exists\n",
    "from shutil import copyfile\n",
    "# https://stackoverflow.com/questions/3207219/how-do-i-list-all-files-of-a-directory"
   ]
  },
  {
   "cell_type": "code",
   "execution_count": null,
   "metadata": {},
   "outputs": [],
   "source": [
    "csvfile = open('/mnt/disks/d1/s/data/apra/split/train.csv')\n",
    "csvreader = csv.reader(csvfile)\n",
    "\n",
    "trainfiles_arr = []\n",
    "for row in csvreader:\n",
    "    trainfiles_arr.append(row[0].replace('_360p.mp4', ''))\n",
    "\n",
    "csvfile.close()\n",
    "\n",
    "csvfile = open('/mnt/disks/d1/s/data/apra/split/validation.csv')\n",
    "csvreader = csv.reader(csvfile)\n",
    "\n",
    "validationfiles_arr = []\n",
    "for row in csvreader:\n",
    "    validationfiles_arr.append(row[0].replace('_360p.mp4', ''))\n",
    "\n",
    "csvfile.close()"
   ]
  },
  {
   "cell_type": "code",
   "execution_count": null,
   "metadata": {},
   "outputs": [],
   "source": [
    "print(len(trainfiles_arr))\n",
    "print(len(validationfiles_arr))"
   ]
  },
  {
   "cell_type": "code",
   "execution_count": null,
   "metadata": {},
   "outputs": [],
   "source": [
    "srcbasedir = '/mnt/disks/d1/s/data/apra/imageannotations'\n",
    "outbasedir = '/mnt/disks/d1/s/data/apra/tempdatasets/june21'\n",
    "\n",
    "trainbasedir = join(outbasedir, 'train')\n",
    "validationbasedir = join(outbasedir, 'validation')\n",
    "\n",
    "if not exists(trainbasedir):\n",
    "    mkdir(trainbasedir)\n",
    "\n",
    "if not exists(validationbasedir):\n",
    "    mkdir(validationbasedir)\n",
    "\n",
    "# get all files in the directory\n",
    "dirs_arr = [f for f in listdir(srcbasedir) if isdir(join(srcbasedir, f))]\n",
    "print(\"dirs_arr<\", len(dirs_arr), \">\")\n",
    "\n",
    "i_counter = 0\n",
    "\n",
    "for dirname in dirs_arr:\n",
    "    cur_path = join(srcbasedir, dirname)\n",
    "    files_arr = [f for f in listdir(cur_path) if isfile(join(cur_path, f))]\n",
    "    \n",
    "    for filename in files_arr:        \n",
    "        temp_str = filename.split('#t=')[0].split('.mp4')[0]\n",
    "        \n",
    "        b_train = True        \n",
    "        # match with train or validation\n",
    "        if temp_str not in trainfiles_arr:\n",
    "            b_train = False\n",
    "\n",
    "        # maintain the same folder heirarchy\n",
    "        out_path = join(validationbasedir, dirname)\n",
    "        if b_train:\n",
    "            out_path = join(trainbasedir, dirname)\n",
    "        \n",
    "        if not exists(out_path):\n",
    "            mkdir(out_path)\n",
    "        \n",
    "        fullfilepath = join(cur_path, filename)\n",
    "        copyfile(fullfilepath, join(out_path, filename))\n",
    "        \n",
    "        i_counter += 1\n",
    "        if i_counter %100 == 0:\n",
    "            print(\"processed<\", i_counter, \">\")\n",
    "        \n",
    "\n",
    "print(\"done<\", i_counter, \">\")"
   ]
  },
  {
   "cell_type": "code",
   "execution_count": 39,
   "metadata": {},
   "outputs": [
    {
     "name": "stdout",
     "output_type": "stream",
     "text": [
      "{'commentators': 36, ' noplay_player_idle': 114, 'bench_players': 114, 'resume': 95, 'celebration': 267, 'audience': 7, 'goalpost': 88, ' logos': 44, 'awards': 17, 'play': 310, 'noplay_others': 133, 'greeting': 65, 'fights': 132}\n",
      "{'commentators': 8, ' noplay_player_idle': 8, 'bench_players': 11, 'resume': 8, 'celebration': 35, 'audience': 1, 'goalpost': 20, ' logos': 8, 'awards': 16, 'play': 31, 'noplay_others': 18, 'greeting': 8, 'fights': 7}\n"
     ]
    }
   ],
   "source": [
    "# list all directories and count the no of images\n",
    "# do the above for train and validation\n",
    "outbasedir = '/mnt/disks/d1/s/data/apra/tempdatasets/june21'\n",
    "\n",
    "trainbasedir = join(outbasedir, 'train')\n",
    "validationbasedir = join(outbasedir, 'validation')\n",
    "\n",
    "train_dirs_arr = [f for f in listdir(trainbasedir) if isdir(join(trainbasedir, f))]\n",
    "train_distribution = {}\n",
    "for dirname in train_dirs_arr:\n",
    "    cur_path = join(trainbasedir, dirname)\n",
    "    files_arr = [f for f in listdir(cur_path) if isfile(join(cur_path, f))]\n",
    "    train_distribution[dirname] = len(files_arr)\n",
    "\n",
    "validation_dirs_arr = [f for f in listdir(validationbasedir) if isdir(join(validationbasedir, f))]\n",
    "validation_distribution = {}\n",
    "for dirname in validation_dirs_arr:\n",
    "    cur_path = join(validationbasedir, dirname)\n",
    "    files_arr = [f for f in listdir(cur_path) if isfile(join(cur_path, f))]\n",
    "    validation_distribution[dirname] = len(files_arr)\n",
    "\n",
    "print(train_distribution)    \n",
    "print(validation_distribution)"
   ]
  },
  {
   "cell_type": "code",
   "execution_count": null,
   "metadata": {},
   "outputs": [],
   "source": []
  }
 ],
 "metadata": {
  "kernelspec": {
   "display_name": "Python 3",
   "language": "python",
   "name": "python3"
  },
  "language_info": {
   "codemirror_mode": {
    "name": "ipython",
    "version": 3
   },
   "file_extension": ".py",
   "mimetype": "text/x-python",
   "name": "python",
   "nbconvert_exporter": "python",
   "pygments_lexer": "ipython3",
   "version": "3.5.3"
  }
 },
 "nbformat": 4,
 "nbformat_minor": 2
}
